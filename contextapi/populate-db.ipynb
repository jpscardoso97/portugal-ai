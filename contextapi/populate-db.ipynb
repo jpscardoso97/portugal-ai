{
 "cells": [
  {
   "cell_type": "code",
   "execution_count": 13,
   "metadata": {},
   "outputs": [
    {
     "name": "stderr",
     "output_type": "stream",
     "text": [
      "huggingface/tokenizers: The current process just got forked, after parallelism has already been used. Disabling parallelism to avoid deadlocks...\n",
      "To disable this warning, you can either:\n",
      "\t- Avoid using `tokenizers` before the fork if possible\n",
      "\t- Explicitly set the environment variable TOKENIZERS_PARALLELISM=(true | false)\n"
     ]
    },
    {
     "name": "stdout",
     "output_type": "stream",
     "text": [
      "Name: pymilvus\n",
      "Version: 2.4.4\n",
      "Summary: Python Sdk for Milvus\n",
      "Home-page: \n",
      "Author: \n",
      "Author-email: Milvus Team <milvus-team@zilliz.com>\n",
      "License: \n",
      "Location: /Users/jc/code/AIPI-540-Module-3-Project/.conda/lib/python3.11/site-packages\n",
      "Requires: environs, grpcio, milvus-lite, pandas, protobuf, setuptools, ujson\n",
      "Required-by: \n",
      "Note: you may need to restart the kernel to use updated packages.\n"
     ]
    }
   ],
   "source": [
    "%pip show pymilvus"
   ]
  },
  {
   "cell_type": "code",
   "execution_count": 14,
   "metadata": {},
   "outputs": [
    {
     "name": "stderr",
     "output_type": "stream",
     "text": [
      "huggingface/tokenizers: The current process just got forked, after parallelism has already been used. Disabling parallelism to avoid deadlocks...\n",
      "To disable this warning, you can either:\n",
      "\t- Avoid using `tokenizers` before the fork if possible\n",
      "\t- Explicitly set the environment variable TOKENIZERS_PARALLELISM=(true | false)\n"
     ]
    },
    {
     "name": "stdout",
     "output_type": "stream",
     "text": [
      "Note: you may need to restart the kernel to use updated packages.\n"
     ]
    },
    {
     "name": "stderr",
     "output_type": "stream",
     "text": [
      "huggingface/tokenizers: The current process just got forked, after parallelism has already been used. Disabling parallelism to avoid deadlocks...\n",
      "To disable this warning, you can either:\n",
      "\t- Avoid using `tokenizers` before the fork if possible\n",
      "\t- Explicitly set the environment variable TOKENIZERS_PARALLELISM=(true | false)\n"
     ]
    },
    {
     "name": "stdout",
     "output_type": "stream",
     "text": [
      "Requirement already satisfied: transformers in /Users/jc/code/AIPI-540-Module-3-Project/.conda/lib/python3.11/site-packages (4.41.2)\n",
      "Requirement already satisfied: filelock in /Users/jc/code/AIPI-540-Module-3-Project/.conda/lib/python3.11/site-packages (from transformers) (3.13.3)\n",
      "Requirement already satisfied: huggingface-hub<1.0,>=0.23.0 in /Users/jc/code/AIPI-540-Module-3-Project/.conda/lib/python3.11/site-packages (from transformers) (0.23.4)\n",
      "Requirement already satisfied: numpy>=1.17 in /Users/jc/code/AIPI-540-Module-3-Project/.conda/lib/python3.11/site-packages (from transformers) (1.26.4)\n",
      "Requirement already satisfied: packaging>=20.0 in /Users/jc/code/AIPI-540-Module-3-Project/.conda/lib/python3.11/site-packages (from transformers) (24.0)\n",
      "Requirement already satisfied: pyyaml>=5.1 in /Users/jc/code/AIPI-540-Module-3-Project/.conda/lib/python3.11/site-packages (from transformers) (6.0.1)\n",
      "Requirement already satisfied: regex!=2019.12.17 in /Users/jc/code/AIPI-540-Module-3-Project/.conda/lib/python3.11/site-packages (from transformers) (2023.12.25)\n",
      "Requirement already satisfied: requests in /Users/jc/code/AIPI-540-Module-3-Project/.conda/lib/python3.11/site-packages (from transformers) (2.31.0)\n",
      "Requirement already satisfied: tokenizers<0.20,>=0.19 in /Users/jc/code/AIPI-540-Module-3-Project/.conda/lib/python3.11/site-packages (from transformers) (0.19.1)\n",
      "Requirement already satisfied: safetensors>=0.4.1 in /Users/jc/code/AIPI-540-Module-3-Project/.conda/lib/python3.11/site-packages (from transformers) (0.4.2)\n",
      "Requirement already satisfied: tqdm>=4.27 in /Users/jc/code/AIPI-540-Module-3-Project/.conda/lib/python3.11/site-packages (from transformers) (4.66.2)\n",
      "Requirement already satisfied: fsspec>=2023.5.0 in /Users/jc/code/AIPI-540-Module-3-Project/.conda/lib/python3.11/site-packages (from huggingface-hub<1.0,>=0.23.0->transformers) (2024.3.1)\n",
      "Requirement already satisfied: typing-extensions>=3.7.4.3 in /Users/jc/code/AIPI-540-Module-3-Project/.conda/lib/python3.11/site-packages (from huggingface-hub<1.0,>=0.23.0->transformers) (4.11.0)\n",
      "Requirement already satisfied: charset-normalizer<4,>=2 in /Users/jc/code/AIPI-540-Module-3-Project/.conda/lib/python3.11/site-packages (from requests->transformers) (3.3.2)\n",
      "Requirement already satisfied: idna<4,>=2.5 in /Users/jc/code/AIPI-540-Module-3-Project/.conda/lib/python3.11/site-packages (from requests->transformers) (3.6)\n",
      "Requirement already satisfied: urllib3<3,>=1.21.1 in /Users/jc/code/AIPI-540-Module-3-Project/.conda/lib/python3.11/site-packages (from requests->transformers) (2.2.1)\n",
      "Requirement already satisfied: certifi>=2017.4.17 in /Users/jc/code/AIPI-540-Module-3-Project/.conda/lib/python3.11/site-packages (from requests->transformers) (2024.2.2)\n",
      "Note: you may need to restart the kernel to use updated packages.\n"
     ]
    }
   ],
   "source": [
    "%pip install -q -U \"pymilvus[model]\"\n",
    "%pip install transformers"
   ]
  },
  {
   "cell_type": "code",
   "execution_count": 1,
   "metadata": {},
   "outputs": [],
   "source": [
    "from pymilvus import MilvusClient\n",
    "\n",
    "client = MilvusClient(\"portugal_ai.db\")\n",
    "COLLECTION_NAME = \"portugal_ai\""
   ]
  },
  {
   "cell_type": "code",
   "execution_count": 2,
   "metadata": {},
   "outputs": [],
   "source": [
    "if client.has_collection(collection_name=COLLECTION_NAME):\n",
    "    client.drop_collection(collection_name=COLLECTION_NAME)\n",
    "client.create_collection(\n",
    "    collection_name=COLLECTION_NAME,\n",
    "    dimension=384,\n",
    ")"
   ]
  },
  {
   "cell_type": "code",
   "execution_count": 3,
   "metadata": {},
   "outputs": [
    {
     "name": "stderr",
     "output_type": "stream",
     "text": [
      "/Users/jc/code/AIPI-540-Module-3-Project/.conda/lib/python3.11/site-packages/tqdm/auto.py:21: TqdmWarning: IProgress not found. Please update jupyter and ipywidgets. See https://ipywidgets.readthedocs.io/en/stable/user_install.html\n",
      "  from .autonotebook import tqdm as notebook_tqdm\n",
      "/Users/jc/code/AIPI-540-Module-3-Project/.conda/lib/python3.11/site-packages/huggingface_hub/file_download.py:1132: FutureWarning: `resume_download` is deprecated and will be removed in version 1.0.0. Downloads always resume when possible. If you want to force a new download, use `force_download=True`.\n",
      "  warnings.warn(\n"
     ]
    },
    {
     "name": "stdout",
     "output_type": "stream",
     "text": [
      "embedding_fn\n"
     ]
    }
   ],
   "source": [
    "from pymilvus import model\n",
    "\n",
    "embedding_fn = model.dense.SentenceTransformerEmbeddingFunction(\n",
    "    model_name='all-MiniLM-L6-v2',\n",
    "    device='cpu'\n",
    ")\n",
    "\n",
    "print(\"embedding_fn\")"
   ]
  },
  {
   "cell_type": "code",
   "execution_count": 4,
   "metadata": {},
   "outputs": [
    {
     "name": "stdout",
     "output_type": "stream",
     "text": [
      "santarem\n",
      "vila real\n",
      "alentejo\n",
      "guimaraes\n",
      "leiria\n",
      "lisbon\n",
      "coimbra\n",
      "covilha\n",
      "aveiro\n",
      "algarve\n",
      "braganca\n",
      "braga\n",
      "funchal\n",
      "azores\n",
      "porto\n",
      "viseu\n",
      "Dim: 384 (384,)\n",
      "Data has 90 entities, each with fields:  dict_keys(['id', 'vector', 'text', 'location'])\n",
      "Vector dim: 384\n"
     ]
    }
   ],
   "source": [
    "import os\n",
    "\n",
    "docs = []\n",
    "doc_locations = []\n",
    "\n",
    "# Iterate locations\n",
    "for location in os.listdir(\"data\"):\n",
    "    print(location)\n",
    "    # Iterate files inside location folder\n",
    "    for file in os.listdir(f\"data/{location}\"):\n",
    "        with open(f\"data/{location}/{file}\", \"r\") as f:\n",
    "            content = f.read()\n",
    "            docs.append(content)\n",
    "            doc_locations.append(location)  # Save the location of the document\n",
    "            \n",
    "\n",
    "vectors = embedding_fn.encode_documents(docs)\n",
    "print(\"Dim:\", embedding_fn.dim, vectors[0].shape)  # Dim: 768 (768,)\n",
    "\n",
    "data = [\n",
    "    {\"id\": i, \"vector\": vectors[i], \"text\": docs[i], \"location\": doc_locations[i]}\n",
    "    for i in range(len(vectors))\n",
    "]\n",
    "\n",
    "print(\"Data has\", len(data), \"entities, each with fields: \", data[0].keys())\n",
    "print(\"Vector dim:\", len(data[0][\"vector\"]))\n"
   ]
  },
  {
   "cell_type": "code",
   "execution_count": 5,
   "metadata": {},
   "outputs": [
    {
     "name": "stdout",
     "output_type": "stream",
     "text": [
      "{'insert_count': 90, 'ids': [0, 1, 2, 3, 4, 5, 6, 7, 8, 9, 10, 11, 12, 13, 14, 15, 16, 17, 18, 19, 20, 21, 22, 23, 24, 25, 26, 27, 28, 29, 30, 31, 32, 33, 34, 35, 36, 37, 38, 39, 40, 41, 42, 43, 44, 45, 46, 47, 48, 49, 50, 51, 52, 53, 54, 55, 56, 57, 58, 59, 60, 61, 62, 63, 64, 65, 66, 67, 68, 69, 70, 71, 72, 73, 74, 75, 76, 77, 78, 79, 80, 81, 82, 83, 84, 85, 86, 87, 88, 89], 'cost': 0}\n"
     ]
    }
   ],
   "source": [
    "res = client.insert(collection_name=COLLECTION_NAME, data=data)\n",
    "\n",
    "print(res)"
   ]
  },
  {
   "cell_type": "code",
   "execution_count": 7,
   "metadata": {},
   "outputs": [
    {
     "name": "stdout",
     "output_type": "stream",
     "text": [
      "Distance: 0.4209580421447754\n",
      "Location: braga\n",
      "Text: Restaurant Name: Taberna Belga (belgium tavern)\n",
      "----\n"
     ]
    }
   ],
   "source": [
    "query_vectors = embedding_fn.encode_queries([\"I'm looking for a francesinha, where should I eat?\"])\n",
    "\n",
    "res = client.search(\\\n",
    "    collection_name=COLLECTION_NAME,  # target collection\n",
    "    data=query_vectors,  # query vectors\n",
    "    filter=\"location == 'braga'\",  # filter results\n",
    "    limit=1,  # number of returned entities\n",
    "    output_fields=[\"text\", \"location\"],  # specifies fields to be returned\n",
    ")\n",
    "\n",
    "for rec in res[0]:\n",
    "    print(f\"Distance: {rec['distance']}\")\n",
    "    print(f\"Location: {rec['entity']['location']}\")\n",
    "    print(f\"Text: {rec['entity']['text'].splitlines()[0]}\")\n",
    "    print(\"----\")"
   ]
  },
  {
   "cell_type": "code",
   "execution_count": null,
   "metadata": {},
   "outputs": [],
   "source": []
  }
 ],
 "metadata": {
  "kernelspec": {
   "display_name": "ml-env",
   "language": "python",
   "name": "python3"
  },
  "language_info": {
   "codemirror_mode": {
    "name": "ipython",
    "version": 3
   },
   "file_extension": ".py",
   "mimetype": "text/x-python",
   "name": "python",
   "nbconvert_exporter": "python",
   "pygments_lexer": "ipython3",
   "version": "3.11.8"
  }
 },
 "nbformat": 4,
 "nbformat_minor": 2
}
